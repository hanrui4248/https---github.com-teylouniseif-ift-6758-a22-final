{
 "cells": [
  {
   "cell_type": "code",
   "execution_count": 3,
   "metadata": {},
   "outputs": [
    {
     "name": "stderr",
     "output_type": "stream",
     "text": [
      "100%|██████████| 1230/1230 [03:45<00:00,  5.46it/s]\n"
     ]
    }
   ],
   "source": [
    "from question1 import get_play_by_play_season_gameType\n",
    "from question4 import *\n",
    "get_play_by_play_season_gameType(\"2015\",\"02\",\"data_saved/play_by_play\")\n",
    "directory2015 = r'data_saved/play_by_play/2015/regular'\n",
    "df2015 = create_full_df(directory=directory2015)"
   ]
  },
  {
   "cell_type": "code",
   "execution_count": 4,
   "metadata": {},
   "outputs": [
    {
     "name": "stdout",
     "output_type": "stream",
     "text": [
      "          Game_ID  Event_ID  Period_Number Period_Time  Game_Time  \\\n",
      "0      2015020364         5              1       00:36       0.60   \n",
      "1      2015020364        12              1       01:48       1.80   \n",
      "2      2015020364        13              1       01:55       1.91   \n",
      "3      2015020364        18              1       03:13       3.21   \n",
      "4      2015020364        32              1       05:09       5.15   \n",
      "...           ...       ...            ...         ...        ...   \n",
      "73735  2015020035       305              3       15:31      55.51   \n",
      "73736  2015020035       308              3       15:35      55.58   \n",
      "73737  2015020035       320              3       18:12      58.20   \n",
      "73738  2015020035       324              3       18:59      58.98   \n",
      "73739  2015020035       328              3       19:48      59.80   \n",
      "\n",
      "       Secondes_jeu Shot_or_Goal   Shot_Type            Shooter  \\\n",
      "0              36.0         Shot  Wrist Shot     Filip Forsberg   \n",
      "1             108.0         Shot  Wrist Shot       Cody Hodgson   \n",
      "2             114.6         Shot  Wrist Shot        Craig Smith   \n",
      "3             192.6         Shot    Backhand   Viktor Arvidsson   \n",
      "4             309.0         Shot  Wrist Shot         Seth Jones   \n",
      "...             ...          ...         ...                ...   \n",
      "73735        3330.6         Shot   Snap Shot         Ryan White   \n",
      "73736        3334.8         Shot   Slap Shot  Michael Del Zotto   \n",
      "73737        3492.0         Shot  Wrist Shot      Michael Raffl   \n",
      "73738        3538.8         Shot    Backhand       Jaromir Jagr   \n",
      "73739        3588.0         Shot   Snap Shot      Brandon Pirri   \n",
      "\n",
      "      Team_of_Shooter  ... Est_un_but Filet_vide Last_event_type  Rebond  \\\n",
      "0                 NSH  ...          0          0             Hit   False   \n",
      "1                 NSH  ...          0          0        Takeaway   False   \n",
      "2                 NSH  ...          0          0            Shot    True   \n",
      "3                 NSH  ...          0          0         Faceoff   False   \n",
      "4                 NSH  ...          0          0    Blocked Shot   False   \n",
      "...               ...  ...        ...        ...             ...     ...   \n",
      "73735             PHI  ...          0          0     Missed Shot   False   \n",
      "73736             PHI  ...          0          0         Faceoff   False   \n",
      "73737             PHI  ...          0          0        Giveaway   False   \n",
      "73738             FLA  ...          0          0    Blocked Shot   False   \n",
      "73739             FLA  ...          0          0         Faceoff   False   \n",
      "\n",
      "       X_last_event  Y_last_event  Sec_from_lastEvent  Dis_from_lastEvent  \\\n",
      "0             -78.0         -38.0                 6.0          140.527577   \n",
      "1              35.0          -2.0                 0.0           42.755117   \n",
      "2              77.0           6.0                 6.6           20.124612   \n",
      "3              69.0          22.0                 9.6           19.849433   \n",
      "4              85.0         -11.0                23.4           37.013511   \n",
      "...             ...           ...                 ...                 ...   \n",
      "73735         -64.0         -35.0                12.6           20.808652   \n",
      "73736         -69.0         -22.0                 4.2           42.190046   \n",
      "73737         -96.0          11.0                 7.2           44.407207   \n",
      "73738         -69.0          -6.0                13.8          149.482440   \n",
      "73739          69.0          22.0                21.0           52.153619   \n",
      "\n",
      "       Angle_change    Vitesse  \n",
      "0          0.000000  23.421263  \n",
      "1          0.000000   0.000000  \n",
      "2         96.340192   3.049184  \n",
      "3          0.000000   2.067649  \n",
      "4          0.000000   1.581774  \n",
      "...             ...        ...  \n",
      "73735      0.000000   1.651480  \n",
      "73736      0.000000  10.045249  \n",
      "73737      0.000000   6.167668  \n",
      "73738      0.000000  10.832061  \n",
      "73739      0.000000   2.483506  \n",
      "\n",
      "[73740 rows x 27 columns]\n"
     ]
    }
   ],
   "source": [
    "print(df2015)"
   ]
  }
 ],
 "metadata": {
  "kernelspec": {
   "display_name": "Python 3",
   "language": "python",
   "name": "python3"
  },
  "language_info": {
   "codemirror_mode": {
    "name": "ipython",
    "version": 3
   },
   "file_extension": ".py",
   "mimetype": "text/x-python",
   "name": "python",
   "nbconvert_exporter": "python",
   "pygments_lexer": "ipython3",
   "version": "3.9.10"
  },
  "orig_nbformat": 4,
  "vscode": {
   "interpreter": {
    "hash": "aee8b7b246df8f9039afb4144a1f6fd8d2ca17a180786b69acc140d282b71a49"
   }
  }
 },
 "nbformat": 4,
 "nbformat_minor": 2
}
